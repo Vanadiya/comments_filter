{
 "cells": [
  {
   "cell_type": "markdown",
   "metadata": {
    "toc": true
   },
   "source": [
    "<h1>Содержание<span class=\"tocSkip\"></span></h1>\n",
    "<div class=\"toc\"><ul class=\"toc-item\"><li><span><a href=\"#Подготовка\" data-toc-modified-id=\"Подготовка-1\"><span class=\"toc-item-num\">1&nbsp;&nbsp;</span>Подготовка</a></span><ul class=\"toc-item\"><li><span><a href=\"#Лемматизация\" data-toc-modified-id=\"Лемматизация-1.1\"><span class=\"toc-item-num\">1.1&nbsp;&nbsp;</span>Лемматизация</a></span></li><li><span><a href=\"#Проверка-на-дисбаланс-классов.\" data-toc-modified-id=\"Проверка-на-дисбаланс-классов.-1.2\"><span class=\"toc-item-num\">1.2&nbsp;&nbsp;</span>Проверка на дисбаланс классов.</a></span></li><li><span><a href=\"#Деление-на-выборки.\" data-toc-modified-id=\"Деление-на-выборки.-1.3\"><span class=\"toc-item-num\">1.3&nbsp;&nbsp;</span>Деление на выборки.</a></span></li><li><span><a href=\"#TF-IDF\" data-toc-modified-id=\"TF-IDF-1.4\"><span class=\"toc-item-num\">1.4&nbsp;&nbsp;</span>TF-IDF</a></span></li></ul></li><li><span><a href=\"#Обучение\" data-toc-modified-id=\"Обучение-2\"><span class=\"toc-item-num\">2&nbsp;&nbsp;</span>Обучение</a></span><ul class=\"toc-item\"><li><span><a href=\"#Логистическая-Регрессия\" data-toc-modified-id=\"Логистическая-Регрессия-2.1\"><span class=\"toc-item-num\">2.1&nbsp;&nbsp;</span>Логистическая Регрессия</a></span></li><li><span><a href=\"#Descision-Tree-Classifier\" data-toc-modified-id=\"Descision-Tree-Classifier-2.2\"><span class=\"toc-item-num\">2.2&nbsp;&nbsp;</span>Descision Tree Classifier</a></span></li><li><span><a href=\"#LGBM-Classifier\" data-toc-modified-id=\"LGBM-Classifier-2.3\"><span class=\"toc-item-num\">2.3&nbsp;&nbsp;</span>LGBM Classifier</a></span></li><li><span><a href=\"#CatBoost-Classifier\" data-toc-modified-id=\"CatBoost-Classifier-2.4\"><span class=\"toc-item-num\">2.4&nbsp;&nbsp;</span>CatBoost Classifier</a></span></li><li><span><a href=\"#Проверим-лучшую-модель-на-тестовой-выборке\" data-toc-modified-id=\"Проверим-лучшую-модель-на-тестовой-выборке-2.5\"><span class=\"toc-item-num\">2.5&nbsp;&nbsp;</span>Проверим лучшую модель на тестовой выборке</a></span></li></ul></li><li><span><a href=\"#Выводы\" data-toc-modified-id=\"Выводы-3\"><span class=\"toc-item-num\">3&nbsp;&nbsp;</span>Выводы</a></span></li></ul></div>"
   ]
  },
  {
   "cell_type": "markdown",
   "metadata": {},
   "source": [
    "# Проект для «Викишоп»"
   ]
  },
  {
   "cell_type": "markdown",
   "metadata": {},
   "source": [
    "Интернет-магазин «Викишоп» запускает новый сервис. Теперь пользователи могут редактировать и дополнять описания товаров, как в вики-сообществах. То есть клиенты предлагают свои правки и комментируют изменения других. Магазину нужен инструмент, который будет искать токсичные комментарии и отправлять их на модерацию. \n",
    "\n",
    "Обучите модель классифицировать комментарии на позитивные и негативные. В вашем распоряжении набор данных с разметкой о токсичности правок.\n",
    "\n",
    "Постройте модель со значением метрики качества *F1* не меньше 0.75. \n",
    "\n",
    "**Инструкция по выполнению проекта**\n",
    "\n",
    "1. Загрузите и подготовьте данные.\n",
    "2. Обучите разные модели. \n",
    "3. Сделайте выводы.\n",
    "\n",
    "Для выполнения проекта применять *BERT* необязательно, но вы можете попробовать.\n",
    "\n",
    "**Описание данных**\n",
    "\n",
    "Данные находятся в файле `toxic_comments.csv`. Столбец *text* в нём содержит текст комментария, а *toxic* — целевой признак."
   ]
  },
  {
   "cell_type": "markdown",
   "metadata": {},
   "source": [
    "## Подготовка"
   ]
  },
  {
   "cell_type": "markdown",
   "metadata": {
    "ExecuteTime": {
     "end_time": "2022-12-14T18:48:56.769423Z",
     "start_time": "2022-12-14T18:48:30.192693Z"
    }
   },
   "source": [
    "%pip install transformers\n",
    "\n",
    "%pip install catboost\n",
    "\n",
    "%pip install seaborn\n",
    "\n",
    "%pip install tqdm\n",
    "\n",
    "%pip install pymystem3"
   ]
  },
  {
   "cell_type": "markdown",
   "metadata": {},
   "source": [
    "Импортируем необходимые библиотеки"
   ]
  },
  {
   "cell_type": "code",
   "execution_count": 1,
   "metadata": {
    "ExecuteTime": {
     "end_time": "2022-12-16T12:41:34.150924Z",
     "start_time": "2022-12-16T12:41:27.087121Z"
    }
   },
   "outputs": [],
   "source": [
    "import re\n",
    "\n",
    "import nltk\n",
    "import numpy as np\n",
    "import matplotlib.pyplot as plt\n",
    "import pandas as pd\n",
    "from catboost import CatBoostClassifier\n",
    "from lightgbm import LGBMClassifier\n",
    "from nltk.corpus import stopwords, wordnet\n",
    "from nltk.stem import WordNetLemmatizer\n",
    "from nltk.tokenize import word_tokenize\n",
    "from pymystem3 import Mystem\n",
    "from sklearn.feature_extraction.text import TfidfVectorizer\n",
    "from sklearn.linear_model import LogisticRegression\n",
    "from sklearn.metrics import f1_score\n",
    "from sklearn.model_selection import train_test_split\n",
    "from sklearn.utils import shuffle\n",
    "from sklearn.tree import DecisionTreeClassifier\n",
    "from tqdm import notebook, tqdm\n"
   ]
  },
  {
   "cell_type": "code",
   "execution_count": 2,
   "metadata": {
    "ExecuteTime": {
     "end_time": "2022-12-16T12:41:34.738751Z",
     "start_time": "2022-12-16T12:41:34.150924Z"
    }
   },
   "outputs": [
    {
     "name": "stderr",
     "output_type": "stream",
     "text": [
      "[nltk_data] Downloading package wordnet to\n",
      "[nltk_data]     C:\\Users\\Manioka\\AppData\\Roaming\\nltk_data...\n",
      "[nltk_data]   Package wordnet is already up-to-date!\n",
      "[nltk_data] Downloading package averaged_perceptron_tagger to\n",
      "[nltk_data]     C:\\Users\\Manioka\\AppData\\Roaming\\nltk_data...\n",
      "[nltk_data]   Package averaged_perceptron_tagger is already up-to-\n",
      "[nltk_data]       date!\n",
      "[nltk_data] Downloading package stopwords to\n",
      "[nltk_data]     C:\\Users\\Manioka\\AppData\\Roaming\\nltk_data...\n",
      "[nltk_data]   Package stopwords is already up-to-date!\n",
      "[nltk_data] Downloading package punkt to\n",
      "[nltk_data]     C:\\Users\\Manioka\\AppData\\Roaming\\nltk_data...\n",
      "[nltk_data]   Package punkt is already up-to-date!\n",
      "[nltk_data] Downloading package omw-1.4 to\n",
      "[nltk_data]     C:\\Users\\Manioka\\AppData\\Roaming\\nltk_data...\n",
      "[nltk_data]   Package omw-1.4 is already up-to-date!\n"
     ]
    },
    {
     "data": {
      "text/plain": [
       "True"
      ]
     },
     "execution_count": 2,
     "metadata": {},
     "output_type": "execute_result"
    }
   ],
   "source": [
    "nltk.download('wordnet')\n",
    "nltk.download('averaged_perceptron_tagger')\n",
    "nltk.download('stopwords')\n",
    "nltk.download('punkt')\n",
    "nltk.download('omw-1.4')"
   ]
  },
  {
   "cell_type": "markdown",
   "metadata": {},
   "source": [
    "Определим константы"
   ]
  },
  {
   "cell_type": "code",
   "execution_count": 3,
   "metadata": {
    "ExecuteTime": {
     "end_time": "2022-12-16T12:41:34.769482Z",
     "start_time": "2022-12-16T12:41:34.738751Z"
    }
   },
   "outputs": [],
   "source": [
    "STOP_WORDS = set(stopwords.words('english'))\n",
    "RS = 12345"
   ]
  },
  {
   "cell_type": "markdown",
   "metadata": {},
   "source": [
    "Посмотрим на твиты, которые Практикум заботливо подобрал для этого проекта."
   ]
  },
  {
   "cell_type": "code",
   "execution_count": 4,
   "metadata": {
    "ExecuteTime": {
     "end_time": "2022-12-16T12:41:37.673596Z",
     "start_time": "2022-12-16T12:41:34.776477Z"
    }
   },
   "outputs": [],
   "source": [
    "# открываем файл\n",
    "try:\n",
    "    twits = pd.read_csv('G:\\DataS\\projects/toxic_comments.csv')\n",
    "except:\n",
    "    twits = pd.read_csv('/datasets/toxic_comments.csv')"
   ]
  },
  {
   "cell_type": "code",
   "execution_count": 5,
   "metadata": {
    "ExecuteTime": {
     "end_time": "2022-12-16T12:41:37.704962Z",
     "start_time": "2022-12-16T12:41:37.673596Z"
    },
    "scrolled": true
   },
   "outputs": [
    {
     "data": {
      "text/html": [
       "<div>\n",
       "<style scoped>\n",
       "    .dataframe tbody tr th:only-of-type {\n",
       "        vertical-align: middle;\n",
       "    }\n",
       "\n",
       "    .dataframe tbody tr th {\n",
       "        vertical-align: top;\n",
       "    }\n",
       "\n",
       "    .dataframe thead th {\n",
       "        text-align: right;\n",
       "    }\n",
       "</style>\n",
       "<table border=\"1\" class=\"dataframe\">\n",
       "  <thead>\n",
       "    <tr style=\"text-align: right;\">\n",
       "      <th></th>\n",
       "      <th>Unnamed: 0</th>\n",
       "      <th>text</th>\n",
       "      <th>toxic</th>\n",
       "    </tr>\n",
       "  </thead>\n",
       "  <tbody>\n",
       "    <tr>\n",
       "      <th>0</th>\n",
       "      <td>0</td>\n",
       "      <td>Explanation\\nWhy the edits made under my usern...</td>\n",
       "      <td>0</td>\n",
       "    </tr>\n",
       "    <tr>\n",
       "      <th>1</th>\n",
       "      <td>1</td>\n",
       "      <td>D'aww! He matches this background colour I'm s...</td>\n",
       "      <td>0</td>\n",
       "    </tr>\n",
       "    <tr>\n",
       "      <th>2</th>\n",
       "      <td>2</td>\n",
       "      <td>Hey man, I'm really not trying to edit war. It...</td>\n",
       "      <td>0</td>\n",
       "    </tr>\n",
       "    <tr>\n",
       "      <th>3</th>\n",
       "      <td>3</td>\n",
       "      <td>\"\\nMore\\nI can't make any real suggestions on ...</td>\n",
       "      <td>0</td>\n",
       "    </tr>\n",
       "    <tr>\n",
       "      <th>4</th>\n",
       "      <td>4</td>\n",
       "      <td>You, sir, are my hero. Any chance you remember...</td>\n",
       "      <td>0</td>\n",
       "    </tr>\n",
       "    <tr>\n",
       "      <th>5</th>\n",
       "      <td>5</td>\n",
       "      <td>\"\\n\\nCongratulations from me as well, use the ...</td>\n",
       "      <td>0</td>\n",
       "    </tr>\n",
       "    <tr>\n",
       "      <th>6</th>\n",
       "      <td>6</td>\n",
       "      <td>COCKSUCKER BEFORE YOU PISS AROUND ON MY WORK</td>\n",
       "      <td>1</td>\n",
       "    </tr>\n",
       "    <tr>\n",
       "      <th>7</th>\n",
       "      <td>7</td>\n",
       "      <td>Your vandalism to the Matt Shirvington article...</td>\n",
       "      <td>0</td>\n",
       "    </tr>\n",
       "    <tr>\n",
       "      <th>8</th>\n",
       "      <td>8</td>\n",
       "      <td>Sorry if the word 'nonsense' was offensive to ...</td>\n",
       "      <td>0</td>\n",
       "    </tr>\n",
       "    <tr>\n",
       "      <th>9</th>\n",
       "      <td>9</td>\n",
       "      <td>alignment on this subject and which are contra...</td>\n",
       "      <td>0</td>\n",
       "    </tr>\n",
       "    <tr>\n",
       "      <th>10</th>\n",
       "      <td>10</td>\n",
       "      <td>\"\\nFair use rationale for Image:Wonju.jpg\\n\\nT...</td>\n",
       "      <td>0</td>\n",
       "    </tr>\n",
       "    <tr>\n",
       "      <th>11</th>\n",
       "      <td>11</td>\n",
       "      <td>bbq \\n\\nbe a man and lets discuss it-maybe ove...</td>\n",
       "      <td>0</td>\n",
       "    </tr>\n",
       "    <tr>\n",
       "      <th>12</th>\n",
       "      <td>12</td>\n",
       "      <td>Hey... what is it..\\n@ | talk .\\nWhat is it......</td>\n",
       "      <td>1</td>\n",
       "    </tr>\n",
       "    <tr>\n",
       "      <th>13</th>\n",
       "      <td>13</td>\n",
       "      <td>Before you start throwing accusations and warn...</td>\n",
       "      <td>0</td>\n",
       "    </tr>\n",
       "    <tr>\n",
       "      <th>14</th>\n",
       "      <td>14</td>\n",
       "      <td>Oh, and the girl above started her arguments w...</td>\n",
       "      <td>0</td>\n",
       "    </tr>\n",
       "    <tr>\n",
       "      <th>15</th>\n",
       "      <td>15</td>\n",
       "      <td>\"\\n\\nJuelz Santanas Age\\n\\nIn 2002, Juelz Sant...</td>\n",
       "      <td>0</td>\n",
       "    </tr>\n",
       "    <tr>\n",
       "      <th>16</th>\n",
       "      <td>16</td>\n",
       "      <td>Bye! \\n\\nDon't look, come or think of comming ...</td>\n",
       "      <td>1</td>\n",
       "    </tr>\n",
       "    <tr>\n",
       "      <th>17</th>\n",
       "      <td>17</td>\n",
       "      <td>REDIRECT Talk:Voydan Pop Georgiev- Chernodrinski</td>\n",
       "      <td>0</td>\n",
       "    </tr>\n",
       "    <tr>\n",
       "      <th>18</th>\n",
       "      <td>18</td>\n",
       "      <td>The Mitsurugi point made no sense - why not ar...</td>\n",
       "      <td>0</td>\n",
       "    </tr>\n",
       "    <tr>\n",
       "      <th>19</th>\n",
       "      <td>19</td>\n",
       "      <td>Don't mean to bother you \\n\\nI see that you're...</td>\n",
       "      <td>0</td>\n",
       "    </tr>\n",
       "  </tbody>\n",
       "</table>\n",
       "</div>"
      ],
      "text/plain": [
       "    Unnamed: 0                                               text  toxic\n",
       "0            0  Explanation\\nWhy the edits made under my usern...      0\n",
       "1            1  D'aww! He matches this background colour I'm s...      0\n",
       "2            2  Hey man, I'm really not trying to edit war. It...      0\n",
       "3            3  \"\\nMore\\nI can't make any real suggestions on ...      0\n",
       "4            4  You, sir, are my hero. Any chance you remember...      0\n",
       "5            5  \"\\n\\nCongratulations from me as well, use the ...      0\n",
       "6            6       COCKSUCKER BEFORE YOU PISS AROUND ON MY WORK      1\n",
       "7            7  Your vandalism to the Matt Shirvington article...      0\n",
       "8            8  Sorry if the word 'nonsense' was offensive to ...      0\n",
       "9            9  alignment on this subject and which are contra...      0\n",
       "10          10  \"\\nFair use rationale for Image:Wonju.jpg\\n\\nT...      0\n",
       "11          11  bbq \\n\\nbe a man and lets discuss it-maybe ove...      0\n",
       "12          12  Hey... what is it..\\n@ | talk .\\nWhat is it......      1\n",
       "13          13  Before you start throwing accusations and warn...      0\n",
       "14          14  Oh, and the girl above started her arguments w...      0\n",
       "15          15  \"\\n\\nJuelz Santanas Age\\n\\nIn 2002, Juelz Sant...      0\n",
       "16          16  Bye! \\n\\nDon't look, come or think of comming ...      1\n",
       "17          17   REDIRECT Talk:Voydan Pop Georgiev- Chernodrinski      0\n",
       "18          18  The Mitsurugi point made no sense - why not ar...      0\n",
       "19          19  Don't mean to bother you \\n\\nI see that you're...      0"
      ]
     },
     "execution_count": 5,
     "metadata": {},
     "output_type": "execute_result"
    }
   ],
   "source": [
    "twits.head(20)"
   ]
  },
  {
   "cell_type": "code",
   "execution_count": 6,
   "metadata": {
    "ExecuteTime": {
     "end_time": "2022-12-16T12:41:37.736941Z",
     "start_time": "2022-12-16T12:41:37.707957Z"
    }
   },
   "outputs": [
    {
     "data": {
      "text/html": [
       "<div>\n",
       "<style scoped>\n",
       "    .dataframe tbody tr th:only-of-type {\n",
       "        vertical-align: middle;\n",
       "    }\n",
       "\n",
       "    .dataframe tbody tr th {\n",
       "        vertical-align: top;\n",
       "    }\n",
       "\n",
       "    .dataframe thead th {\n",
       "        text-align: right;\n",
       "    }\n",
       "</style>\n",
       "<table border=\"1\" class=\"dataframe\">\n",
       "  <thead>\n",
       "    <tr style=\"text-align: right;\">\n",
       "      <th></th>\n",
       "      <th>Unnamed: 0</th>\n",
       "      <th>text</th>\n",
       "      <th>toxic</th>\n",
       "    </tr>\n",
       "  </thead>\n",
       "  <tbody>\n",
       "    <tr>\n",
       "      <th>159272</th>\n",
       "      <td>159431</td>\n",
       "      <td>While about half the references are from BYU-I...</td>\n",
       "      <td>0</td>\n",
       "    </tr>\n",
       "    <tr>\n",
       "      <th>159273</th>\n",
       "      <td>159432</td>\n",
       "      <td>Prague Spring \\n\\nI think that Prague Spring d...</td>\n",
       "      <td>0</td>\n",
       "    </tr>\n",
       "    <tr>\n",
       "      <th>159274</th>\n",
       "      <td>159433</td>\n",
       "      <td>I see this as having been merged; undoing one ...</td>\n",
       "      <td>0</td>\n",
       "    </tr>\n",
       "    <tr>\n",
       "      <th>159275</th>\n",
       "      <td>159434</td>\n",
       "      <td>and i'm going to keep posting the stuff u dele...</td>\n",
       "      <td>1</td>\n",
       "    </tr>\n",
       "    <tr>\n",
       "      <th>159276</th>\n",
       "      <td>159435</td>\n",
       "      <td>\"\\n\\nHow come when you download that MP3 it's ...</td>\n",
       "      <td>0</td>\n",
       "    </tr>\n",
       "    <tr>\n",
       "      <th>159277</th>\n",
       "      <td>159436</td>\n",
       "      <td>I'll be on IRC, too, if you have a more specif...</td>\n",
       "      <td>0</td>\n",
       "    </tr>\n",
       "    <tr>\n",
       "      <th>159278</th>\n",
       "      <td>159437</td>\n",
       "      <td>It is my opinion that that happens to be off-t...</td>\n",
       "      <td>0</td>\n",
       "    </tr>\n",
       "    <tr>\n",
       "      <th>159279</th>\n",
       "      <td>159438</td>\n",
       "      <td>Please stop removing content from Wikipedia; i...</td>\n",
       "      <td>0</td>\n",
       "    </tr>\n",
       "    <tr>\n",
       "      <th>159280</th>\n",
       "      <td>159439</td>\n",
       "      <td>Image:Barack-obama-mother.jpg listed for delet...</td>\n",
       "      <td>0</td>\n",
       "    </tr>\n",
       "    <tr>\n",
       "      <th>159281</th>\n",
       "      <td>159440</td>\n",
       "      <td>\"Editing of article without Consensus &amp; Remova...</td>\n",
       "      <td>0</td>\n",
       "    </tr>\n",
       "    <tr>\n",
       "      <th>159282</th>\n",
       "      <td>159441</td>\n",
       "      <td>\"\\nNo he did not, read it again (I would have ...</td>\n",
       "      <td>0</td>\n",
       "    </tr>\n",
       "    <tr>\n",
       "      <th>159283</th>\n",
       "      <td>159442</td>\n",
       "      <td>\"\\n Auto guides and the motoring press are not...</td>\n",
       "      <td>0</td>\n",
       "    </tr>\n",
       "    <tr>\n",
       "      <th>159284</th>\n",
       "      <td>159443</td>\n",
       "      <td>\"\\nplease identify what part of BLP applies be...</td>\n",
       "      <td>0</td>\n",
       "    </tr>\n",
       "    <tr>\n",
       "      <th>159285</th>\n",
       "      <td>159444</td>\n",
       "      <td>Catalan independentism is the social movement ...</td>\n",
       "      <td>0</td>\n",
       "    </tr>\n",
       "    <tr>\n",
       "      <th>159286</th>\n",
       "      <td>159445</td>\n",
       "      <td>The numbers in parentheses are the additional ...</td>\n",
       "      <td>0</td>\n",
       "    </tr>\n",
       "    <tr>\n",
       "      <th>159287</th>\n",
       "      <td>159446</td>\n",
       "      <td>\":::::And for the second time of asking, when ...</td>\n",
       "      <td>0</td>\n",
       "    </tr>\n",
       "    <tr>\n",
       "      <th>159288</th>\n",
       "      <td>159447</td>\n",
       "      <td>You should be ashamed of yourself \\n\\nThat is ...</td>\n",
       "      <td>0</td>\n",
       "    </tr>\n",
       "    <tr>\n",
       "      <th>159289</th>\n",
       "      <td>159448</td>\n",
       "      <td>Spitzer \\n\\nUmm, theres no actual article for ...</td>\n",
       "      <td>0</td>\n",
       "    </tr>\n",
       "    <tr>\n",
       "      <th>159290</th>\n",
       "      <td>159449</td>\n",
       "      <td>And it looks like it was actually you who put ...</td>\n",
       "      <td>0</td>\n",
       "    </tr>\n",
       "    <tr>\n",
       "      <th>159291</th>\n",
       "      <td>159450</td>\n",
       "      <td>\"\\nAnd ... I really don't think you understand...</td>\n",
       "      <td>0</td>\n",
       "    </tr>\n",
       "  </tbody>\n",
       "</table>\n",
       "</div>"
      ],
      "text/plain": [
       "        Unnamed: 0                                               text  toxic\n",
       "159272      159431  While about half the references are from BYU-I...      0\n",
       "159273      159432  Prague Spring \\n\\nI think that Prague Spring d...      0\n",
       "159274      159433  I see this as having been merged; undoing one ...      0\n",
       "159275      159434  and i'm going to keep posting the stuff u dele...      1\n",
       "159276      159435  \"\\n\\nHow come when you download that MP3 it's ...      0\n",
       "159277      159436  I'll be on IRC, too, if you have a more specif...      0\n",
       "159278      159437  It is my opinion that that happens to be off-t...      0\n",
       "159279      159438  Please stop removing content from Wikipedia; i...      0\n",
       "159280      159439  Image:Barack-obama-mother.jpg listed for delet...      0\n",
       "159281      159440  \"Editing of article without Consensus & Remova...      0\n",
       "159282      159441  \"\\nNo he did not, read it again (I would have ...      0\n",
       "159283      159442  \"\\n Auto guides and the motoring press are not...      0\n",
       "159284      159443  \"\\nplease identify what part of BLP applies be...      0\n",
       "159285      159444  Catalan independentism is the social movement ...      0\n",
       "159286      159445  The numbers in parentheses are the additional ...      0\n",
       "159287      159446  \":::::And for the second time of asking, when ...      0\n",
       "159288      159447  You should be ashamed of yourself \\n\\nThat is ...      0\n",
       "159289      159448  Spitzer \\n\\nUmm, theres no actual article for ...      0\n",
       "159290      159449  And it looks like it was actually you who put ...      0\n",
       "159291      159450  \"\\nAnd ... I really don't think you understand...      0"
      ]
     },
     "execution_count": 6,
     "metadata": {},
     "output_type": "execute_result"
    }
   ],
   "source": [
    "twits.tail(20)"
   ]
  },
  {
   "cell_type": "code",
   "execution_count": 7,
   "metadata": {
    "ExecuteTime": {
     "end_time": "2022-12-16T12:41:37.832886Z",
     "start_time": "2022-12-16T12:41:37.743941Z"
    }
   },
   "outputs": [
    {
     "name": "stdout",
     "output_type": "stream",
     "text": [
      "<class 'pandas.core.frame.DataFrame'>\n",
      "RangeIndex: 159292 entries, 0 to 159291\n",
      "Data columns (total 3 columns):\n",
      " #   Column      Non-Null Count   Dtype \n",
      "---  ------      --------------   ----- \n",
      " 0   Unnamed: 0  159292 non-null  int64 \n",
      " 1   text        159292 non-null  object\n",
      " 2   toxic       159292 non-null  int64 \n",
      "dtypes: int64(2), object(1)\n",
      "memory usage: 3.6+ MB\n",
      "None\n"
     ]
    }
   ],
   "source": [
    "# выведем размеры датафрейма \n",
    "print(twits.info())"
   ]
  },
  {
   "cell_type": "markdown",
   "metadata": {},
   "source": [
    "Заметила, что столбец Unnamed: 0 совпадает с индексом, но при проверке конца, это наблюдение не подтвердилось. Пока оставлю как есть."
   ]
  },
  {
   "cell_type": "code",
   "execution_count": 8,
   "metadata": {
    "ExecuteTime": {
     "end_time": "2022-12-16T12:41:37.896849Z",
     "start_time": "2022-12-16T12:41:37.834885Z"
    }
   },
   "outputs": [
    {
     "data": {
      "text/plain": [
       "Unnamed: 0    0\n",
       "text          0\n",
       "toxic         0\n",
       "dtype: int64"
      ]
     },
     "execution_count": 8,
     "metadata": {},
     "output_type": "execute_result"
    }
   ],
   "source": [
    "# Проверка на наличие пропусков в данных\n",
    "twits.isnull().sum()"
   ]
  },
  {
   "cell_type": "markdown",
   "metadata": {},
   "source": [
    "Пропусков нет. Тогда до сих пор для меня загадка почему идет смещение и не совпадение с индексом, про которое писала ранее."
   ]
  },
  {
   "cell_type": "markdown",
   "metadata": {},
   "source": [
    "### Лемматизация"
   ]
  },
  {
   "cell_type": "markdown",
   "metadata": {},
   "source": [
    "Создадим корпус постов. Преобразуем столбец 'text' в список текстов:"
   ]
  },
  {
   "cell_type": "code",
   "execution_count": 9,
   "metadata": {
    "ExecuteTime": {
     "end_time": "2022-12-16T12:41:37.912838Z",
     "start_time": "2022-12-16T12:41:37.905844Z"
    }
   },
   "outputs": [],
   "source": [
    "lemmatizer = WordNetLemmatizer()"
   ]
  },
  {
   "cell_type": "markdown",
   "metadata": {},
   "source": [
    "Функция для создания токенов. Навешивает на каждое слово \"ярлык\" по частям речи."
   ]
  },
  {
   "cell_type": "code",
   "execution_count": 10,
   "metadata": {
    "ExecuteTime": {
     "end_time": "2022-12-16T12:41:37.928829Z",
     "start_time": "2022-12-16T12:41:37.919837Z"
    }
   },
   "outputs": [],
   "source": [
    "def get_wordnet_pos(word):\n",
    "    tag = nltk.pos_tag([word])[0][1][0].upper()\n",
    "    tag_dict = {\"J\": wordnet.ADJ,\n",
    "                \"N\": wordnet.NOUN,\n",
    "                \"V\": wordnet.VERB,\n",
    "                \"R\": wordnet.ADV}\n",
    "    \n",
    "    return tag_dict.get(tag, wordnet.NOUN)"
   ]
  },
  {
   "cell_type": "code",
   "execution_count": 11,
   "metadata": {
    "ExecuteTime": {
     "end_time": "2022-12-16T12:41:39.774503Z",
     "start_time": "2022-12-16T12:41:37.931829Z"
    }
   },
   "outputs": [
    {
     "name": "stdout",
     "output_type": "stream",
     "text": [
      "['Do', \"n't\", 'worry', ',', 'be', 'happy']\n"
     ]
    }
   ],
   "source": [
    "test = \"Don't worry, be happy\"\n",
    "print([lemmatizer.lemmatize(w, get_wordnet_pos(w)) for w in word_tokenize(test)])"
   ]
  },
  {
   "cell_type": "code",
   "execution_count": 12,
   "metadata": {
    "ExecuteTime": {
     "end_time": "2022-12-16T12:41:39.790492Z",
     "start_time": "2022-12-16T12:41:39.776500Z"
    }
   },
   "outputs": [],
   "source": [
    "def lemmatize_twit(text):\n",
    "    \"\"\"Принимает на вход текст одного твита, \n",
    "    возвращает лемматизированный текст.\"\"\"\n",
    "    lemmatized_list = []\n",
    "    \n",
    "    for word in word_tokenize(text):\n",
    "        lemmatized_list.append(lemmatizer.lemmatize(word, get_wordnet_pos(word)))\n",
    "   \n",
    "    return \" \".join(lemmatized_list)\n"
   ]
  },
  {
   "cell_type": "code",
   "execution_count": 13,
   "metadata": {
    "ExecuteTime": {
     "end_time": "2022-12-16T12:41:39.822472Z",
     "start_time": "2022-12-16T12:41:39.796489Z"
    }
   },
   "outputs": [
    {
     "name": "stdout",
     "output_type": "stream",
     "text": [
      "Do n't worry , be happy\n"
     ]
    }
   ],
   "source": [
    "print(lemmatize_twit(test))"
   ]
  },
  {
   "cell_type": "code",
   "execution_count": 14,
   "metadata": {
    "ExecuteTime": {
     "end_time": "2022-12-16T12:41:39.838465Z",
     "start_time": "2022-12-16T12:41:39.825472Z"
    }
   },
   "outputs": [],
   "source": [
    "def clear_text(text):\n",
    "    \"\"\"Принимает на вход текст твита, возвращает\n",
    "    текст, очищенный от лишних символов.\"\"\"\n",
    "    text = re.sub(r'[^a-zA-Z]', ' ', text)\n",
    "    despacing = text.split()\n",
    "    clear_text = \" \".join(despacing)\n",
    "    \n",
    "    return clear_text"
   ]
  },
  {
   "cell_type": "code",
   "execution_count": 15,
   "metadata": {
    "ExecuteTime": {
     "end_time": "2022-12-16T12:41:39.870445Z",
     "start_time": "2022-12-16T12:41:39.844467Z"
    }
   },
   "outputs": [],
   "source": [
    "def lemmatize_all(column):\n",
    "    \"\"\"Принимает на вход столбец датафрейма с необработанными\n",
    "    твитами, лемматизирует и очищает твиты от лишних символов, собирает \n",
    "    в новый столбец.\"\"\"\n",
    "    \n",
    "    corpus = column # tweets['text']\n",
    "    \n",
    "    lemm_list = [0] * len(corpus) \n",
    "    for i in tqdm(range(len(corpus))):\n",
    "        lemm_list[i] = lemmatize_twit(clear_text(corpus[i]))\n",
    "        \n",
    "    return lemm_list\n",
    "    "
   ]
  },
  {
   "cell_type": "code",
   "execution_count": 16,
   "metadata": {
    "ExecuteTime": {
     "end_time": "2022-12-16T12:41:39.885437Z",
     "start_time": "2022-12-16T12:41:39.873445Z"
    }
   },
   "outputs": [],
   "source": [
    "lemm_list = lemmatize_all(twits['text'])"
   ]
  },
  {
   "cell_type": "code",
   "execution_count": 17,
   "metadata": {
    "ExecuteTime": {
     "end_time": "2022-12-16T12:41:39.901428Z",
     "start_time": "2022-12-16T12:41:39.889435Z"
    }
   },
   "outputs": [],
   "source": [
    "twits['lemm_text'] = lemm_list"
   ]
  },
  {
   "cell_type": "code",
   "execution_count": 18,
   "metadata": {
    "ExecuteTime": {
     "end_time": "2022-12-16T12:41:39.932410Z",
     "start_time": "2022-12-16T12:41:39.906426Z"
    }
   },
   "outputs": [
    {
     "data": {
      "text/html": [
       "<div>\n",
       "<style scoped>\n",
       "    .dataframe tbody tr th:only-of-type {\n",
       "        vertical-align: middle;\n",
       "    }\n",
       "\n",
       "    .dataframe tbody tr th {\n",
       "        vertical-align: top;\n",
       "    }\n",
       "\n",
       "    .dataframe thead th {\n",
       "        text-align: right;\n",
       "    }\n",
       "</style>\n",
       "<table border=\"1\" class=\"dataframe\">\n",
       "  <thead>\n",
       "    <tr style=\"text-align: right;\">\n",
       "      <th></th>\n",
       "      <th>Unnamed: 0</th>\n",
       "      <th>text</th>\n",
       "      <th>toxic</th>\n",
       "    </tr>\n",
       "  </thead>\n",
       "  <tbody>\n",
       "    <tr>\n",
       "      <th>0</th>\n",
       "      <td>0</td>\n",
       "      <td>Explanation\\nWhy the edits made under my usern...</td>\n",
       "      <td>0</td>\n",
       "    </tr>\n",
       "    <tr>\n",
       "      <th>1</th>\n",
       "      <td>1</td>\n",
       "      <td>D'aww! He matches this background colour I'm s...</td>\n",
       "      <td>0</td>\n",
       "    </tr>\n",
       "    <tr>\n",
       "      <th>2</th>\n",
       "      <td>2</td>\n",
       "      <td>Hey man, I'm really not trying to edit war. It...</td>\n",
       "      <td>0</td>\n",
       "    </tr>\n",
       "    <tr>\n",
       "      <th>3</th>\n",
       "      <td>3</td>\n",
       "      <td>\"\\nMore\\nI can't make any real suggestions on ...</td>\n",
       "      <td>0</td>\n",
       "    </tr>\n",
       "    <tr>\n",
       "      <th>4</th>\n",
       "      <td>4</td>\n",
       "      <td>You, sir, are my hero. Any chance you remember...</td>\n",
       "      <td>0</td>\n",
       "    </tr>\n",
       "  </tbody>\n",
       "</table>\n",
       "</div>"
      ],
      "text/plain": [
       "   Unnamed: 0                                               text  toxic\n",
       "0           0  Explanation\\nWhy the edits made under my usern...      0\n",
       "1           1  D'aww! He matches this background colour I'm s...      0\n",
       "2           2  Hey man, I'm really not trying to edit war. It...      0\n",
       "3           3  \"\\nMore\\nI can't make any real suggestions on ...      0\n",
       "4           4  You, sir, are my hero. Any chance you remember...      0"
      ]
     },
     "execution_count": 18,
     "metadata": {},
     "output_type": "execute_result"
    }
   ],
   "source": [
    "twits.head(5)"
   ]
  },
  {
   "cell_type": "markdown",
   "metadata": {
    "ExecuteTime": {
     "end_time": "2022-12-12T18:53:37.866153Z",
     "start_time": "2022-12-12T18:53:37.841188Z"
    }
   },
   "source": [
    "Я не знаю, как делать подгрузку файла с лемматизированными твиттами, поэтому сохраню датасет с лемматизированными твитами в отдельный файлик, чтобы не ждать ещё раз 2 часа при перезапуске тетрадки.\n",
    "\n",
    "но я решила закомментировать эти ячейки, чтобы на локальном компьютере все загрузилось."
   ]
  },
  {
   "cell_type": "code",
   "execution_count": 19,
   "metadata": {
    "ExecuteTime": {
     "end_time": "2022-12-16T12:41:39.948400Z",
     "start_time": "2022-12-16T12:41:39.935408Z"
    }
   },
   "outputs": [],
   "source": [
    "#twits.to_csv(r'C:\\Users\\Manioka\\Documents\\lemmatized_twits.csv')"
   ]
  },
  {
   "cell_type": "code",
   "execution_count": 20,
   "metadata": {
    "ExecuteTime": {
     "end_time": "2022-12-16T12:41:41.992963Z",
     "start_time": "2022-12-16T12:41:39.952399Z"
    }
   },
   "outputs": [
    {
     "data": {
      "text/html": [
       "<div>\n",
       "<style scoped>\n",
       "    .dataframe tbody tr th:only-of-type {\n",
       "        vertical-align: middle;\n",
       "    }\n",
       "\n",
       "    .dataframe tbody tr th {\n",
       "        vertical-align: top;\n",
       "    }\n",
       "\n",
       "    .dataframe thead th {\n",
       "        text-align: right;\n",
       "    }\n",
       "</style>\n",
       "<table border=\"1\" class=\"dataframe\">\n",
       "  <thead>\n",
       "    <tr style=\"text-align: right;\">\n",
       "      <th></th>\n",
       "      <th>Unnamed: 0.1</th>\n",
       "      <th>Unnamed: 0</th>\n",
       "      <th>text</th>\n",
       "      <th>toxic</th>\n",
       "      <th>lemm_text</th>\n",
       "    </tr>\n",
       "  </thead>\n",
       "  <tbody>\n",
       "    <tr>\n",
       "      <th>0</th>\n",
       "      <td>0</td>\n",
       "      <td>0</td>\n",
       "      <td>Explanation\\nWhy the edits made under my usern...</td>\n",
       "      <td>0</td>\n",
       "      <td>Explanation Why the edits make under my userna...</td>\n",
       "    </tr>\n",
       "    <tr>\n",
       "      <th>1</th>\n",
       "      <td>1</td>\n",
       "      <td>1</td>\n",
       "      <td>D'aww! He matches this background colour I'm s...</td>\n",
       "      <td>0</td>\n",
       "      <td>D aww He match this background colour I m seem...</td>\n",
       "    </tr>\n",
       "    <tr>\n",
       "      <th>2</th>\n",
       "      <td>2</td>\n",
       "      <td>2</td>\n",
       "      <td>Hey man, I'm really not trying to edit war. It...</td>\n",
       "      <td>0</td>\n",
       "      <td>Hey man I m really not try to edit war It s ju...</td>\n",
       "    </tr>\n",
       "    <tr>\n",
       "      <th>3</th>\n",
       "      <td>3</td>\n",
       "      <td>3</td>\n",
       "      <td>\"\\nMore\\nI can't make any real suggestions on ...</td>\n",
       "      <td>0</td>\n",
       "      <td>More I can t make any real suggestion on impro...</td>\n",
       "    </tr>\n",
       "    <tr>\n",
       "      <th>4</th>\n",
       "      <td>4</td>\n",
       "      <td>4</td>\n",
       "      <td>You, sir, are my hero. Any chance you remember...</td>\n",
       "      <td>0</td>\n",
       "      <td>You sir be my hero Any chance you remember wha...</td>\n",
       "    </tr>\n",
       "  </tbody>\n",
       "</table>\n",
       "</div>"
      ],
      "text/plain": [
       "   Unnamed: 0.1  Unnamed: 0  \\\n",
       "0             0           0   \n",
       "1             1           1   \n",
       "2             2           2   \n",
       "3             3           3   \n",
       "4             4           4   \n",
       "\n",
       "                                                text  toxic  \\\n",
       "0  Explanation\\nWhy the edits made under my usern...      0   \n",
       "1  D'aww! He matches this background colour I'm s...      0   \n",
       "2  Hey man, I'm really not trying to edit war. It...      0   \n",
       "3  \"\\nMore\\nI can't make any real suggestions on ...      0   \n",
       "4  You, sir, are my hero. Any chance you remember...      0   \n",
       "\n",
       "                                           lemm_text  \n",
       "0  Explanation Why the edits make under my userna...  \n",
       "1  D aww He match this background colour I m seem...  \n",
       "2  Hey man I m really not try to edit war It s ju...  \n",
       "3  More I can t make any real suggestion on impro...  \n",
       "4  You sir be my hero Any chance you remember wha...  "
      ]
     },
     "execution_count": 20,
     "metadata": {},
     "output_type": "execute_result"
    }
   ],
   "source": [
    "# twits = pd.read_csv(r'C:\\Users\\Manioka\\Documents\\lemmatized_twits.csv')\n",
    "# twits.head(5)"
   ]
  },
  {
   "cell_type": "markdown",
   "metadata": {},
   "source": [
    "У меня не получилось лемматизировать тем методом, который рекомендуется в практикуме (там было время ожидания 70 часов) и мой старичок - ноут этого может не выдержать, поэтому я нашла более упрощенный вариант, который и использовала.\n",
    "\n",
    "Полученный столбец я вставила в исходный датасет для дальнейшей обработки."
   ]
  },
  {
   "cell_type": "markdown",
   "metadata": {
    "ExecuteTime": {
     "end_time": "2022-12-16T08:35:28.082990Z",
     "start_time": "2022-12-16T08:35:28.067997Z"
    }
   },
   "source": [
    "### Проверка на дисбаланс классов."
   ]
  },
  {
   "cell_type": "code",
   "execution_count": 21,
   "metadata": {
    "ExecuteTime": {
     "end_time": "2022-12-16T12:41:42.292016Z",
     "start_time": "2022-12-16T12:41:41.995941Z"
    }
   },
   "outputs": [
    {
     "name": "stdout",
     "output_type": "stream",
     "text": [
      "0    0.898388\n",
      "1    0.101612\n",
      "Name: toxic, dtype: float64\n"
     ]
    },
    {
     "data": {
      "text/plain": [
       "Text(0.5, 1.0, ' Доля классов')"
      ]
     },
     "execution_count": 21,
     "metadata": {},
     "output_type": "execute_result"
    },
    {
     "data": {
      "image/png": "[encoded data removed]",
      "text/plain": [
       "<Figure size 640x480 with 1 Axes>"
      ]
     },
     "metadata": {},
     "output_type": "display_data"
    }
   ],
   "source": [
    "class_frequency  = twits['toxic'].value_counts(normalize = True)\n",
    "print(class_frequency)\n",
    "class_frequency.plot(kind = 'bar')\n",
    "plt.xlabel('Класс')\n",
    "plt.ylabel('Доля')\n",
    "plt.title(' Доля классов')"
   ]
  },
  {
   "cell_type": "markdown",
   "metadata": {},
   "source": [
    "Дисбаланс на лицо. А F1 мера очень \"чувствительна\" к дисбалансу. \n",
    "\n",
    "В теории Практикума рассказывали про методы борьбы с дисбалансом: преумножить недостающий класс или сократить превалирующий класс.\n",
    "\n",
    "Осталось только выяснить каким образом."
   ]
  },
  {
   "cell_type": "code",
   "execution_count": 22,
   "metadata": {
    "ExecuteTime": {
     "end_time": "2022-12-16T12:41:42.307986Z",
     "start_time": "2022-12-16T12:41:42.293996Z"
    }
   },
   "outputs": [],
   "source": [
    "def upsample(features, target, repeat):\n",
    "    features_zeros = features[target == 0]\n",
    "    features_ones = features[target == 1]\n",
    "    target_zeros = target[target == 0]\n",
    "    target_ones = target[target == 1]\n",
    "\n",
    "    features_upsampled = pd.concat([features_zeros] + [features_ones] * repeat)\n",
    "    target_upsampled = pd.concat([target_zeros] + [target_ones] * repeat)\n",
    "    \n",
    "    features_upsampled, target_upsampled = shuffle(\n",
    "        features_upsampled, target_upsampled, random_state=RS)\n",
    "    \n",
    "    return features_upsampled, target_upsampled"
   ]
  },
  {
   "cell_type": "markdown",
   "metadata": {
    "ExecuteTime": {
     "end_time": "2022-12-12T12:43:19.044539Z",
     "start_time": "2022-12-12T12:43:19.035547Z"
    }
   },
   "source": [
    "### Деление на выборки."
   ]
  },
  {
   "cell_type": "code",
   "execution_count": 23,
   "metadata": {
    "ExecuteTime": {
     "end_time": "2022-12-16T12:41:42.368393Z",
     "start_time": "2022-12-16T12:41:42.311986Z"
    }
   },
   "outputs": [],
   "source": [
    "features = twits.drop(['toxic'], axis=1)\n",
    "target = twits['toxic']"
   ]
  },
  {
   "cell_type": "markdown",
   "metadata": {},
   "source": [
    "Вроде Бы как практикуме или где-то я читала про то, что если так много данных, то выборки лучше делить в другой пропорции (90% на обучение и 10% на тестовую), поэтому делим признаки и целевой признак target исходного датасета на две части в соотношении 9:1. Получим тренировочную выборку и ответы."
   ]
  },
  {
   "cell_type": "code",
   "execution_count": 24,
   "metadata": {
    "ExecuteTime": {
     "end_time": "2022-12-16T12:41:42.495829Z",
     "start_time": "2022-12-16T12:41:42.370397Z"
    }
   },
   "outputs": [],
   "source": [
    "features_train, features_other, target_train, target_other = train_test_split(\n",
    "    features,\n",
    "    target,\n",
    "    test_size=0.4,\n",
    "    random_state=RS,\n",
    "    stratify=target\n",
    ")"
   ]
  },
  {
   "cell_type": "code",
   "execution_count": 25,
   "metadata": {
    "ExecuteTime": {
     "end_time": "2022-12-16T12:41:42.543800Z",
     "start_time": "2022-12-16T12:41:42.498827Z"
    }
   },
   "outputs": [],
   "source": [
    "features_valid, features_test, target_valid, target_test = train_test_split(\n",
    "    features_other,\n",
    "    target_other,\n",
    "    test_size=0.5,\n",
    "    random_state=RS,\n",
    "    stratify=target_other\n",
    ")"
   ]
  },
  {
   "cell_type": "code",
   "execution_count": 26,
   "metadata": {
    "ExecuteTime": {
     "end_time": "2022-12-16T12:41:42.639745Z",
     "start_time": "2022-12-16T12:41:42.546798Z"
    }
   },
   "outputs": [],
   "source": [
    "features_upsampled, target_upsampled = upsample(features_train, target_train, 5)"
   ]
  },
  {
   "cell_type": "markdown",
   "metadata": {},
   "source": [
    "Спасибо практикуму за готовый код в теории. Я долго игралась с цифрами для repeat: увеличивая количество 1 в toxic. "
   ]
  },
  {
   "cell_type": "markdown",
   "metadata": {},
   "source": [
    "Создадим корпусы лемматизированных твитов на на тренировочной, \n",
    "тестовой и валидационной выборках"
   ]
  },
  {
   "cell_type": "code",
   "execution_count": 27,
   "metadata": {
    "ExecuteTime": {
     "end_time": "2022-12-16T12:41:42.655737Z",
     "start_time": "2022-12-16T12:41:42.647741Z"
    }
   },
   "outputs": [],
   "source": [
    "corpus_train = features_upsampled['lemm_text']\n",
    "corpus_valid = features_valid['lemm_text']\n",
    "corpus_test = features_test['lemm_text']"
   ]
  },
  {
   "cell_type": "markdown",
   "metadata": {},
   "source": [
    "### TF-IDF"
   ]
  },
  {
   "cell_type": "markdown",
   "metadata": {},
   "source": [
    "Создадим матрицы cо значениями TF-IDF по корпусу лемматизированных твитов на тренировочной, \n",
    "тестовой и валидационной выборках"
   ]
  },
  {
   "cell_type": "code",
   "execution_count": 28,
   "metadata": {
    "ExecuteTime": {
     "end_time": "2022-12-16T12:41:49.593598Z",
     "start_time": "2022-12-16T12:41:42.659732Z"
    }
   },
   "outputs": [
    {
     "name": "stdout",
     "output_type": "stream",
     "text": [
      "Размер тренировочной матрицы TF-IDF: (134423, 118108)\n"
     ]
    }
   ],
   "source": [
    "count_tf_idf = TfidfVectorizer(stop_words=STOP_WORDS) \n",
    "tf_idf_train = count_tf_idf.fit_transform(corpus_train.apply(lambda x: np.str_(x)))\n",
    "\n",
    "print(\"Размер тренировочной матрицы TF-IDF:\", tf_idf_train.shape)"
   ]
  },
  {
   "cell_type": "code",
   "execution_count": 29,
   "metadata": {
    "ExecuteTime": {
     "end_time": "2022-12-16T12:41:51.265643Z",
     "start_time": "2022-12-16T12:41:49.603596Z"
    }
   },
   "outputs": [
    {
     "name": "stdout",
     "output_type": "stream",
     "text": [
      "Размер тестовой матрицы TF-IDF: (31858, 118108)\n"
     ]
    }
   ],
   "source": [
    "tf_idf_valid = count_tf_idf.transform(corpus_valid.apply(lambda x: np.str_(x)))\n",
    "\n",
    "print(\"Размер тестовой матрицы TF-IDF:\", tf_idf_valid.shape)"
   ]
  },
  {
   "cell_type": "code",
   "execution_count": 30,
   "metadata": {
    "ExecuteTime": {
     "end_time": "2022-12-16T12:41:52.898061Z",
     "start_time": "2022-12-16T12:41:51.270642Z"
    }
   },
   "outputs": [
    {
     "name": "stdout",
     "output_type": "stream",
     "text": [
      "Размер тестовой матрицы TF-IDF: (31859, 118108)\n"
     ]
    }
   ],
   "source": [
    "tf_idf_test = count_tf_idf.transform(corpus_test.apply(lambda x: np.str_(x)))\n",
    "\n",
    "print(\"Размер тестовой матрицы TF-IDF:\", tf_idf_test.shape)"
   ]
  },
  {
   "cell_type": "markdown",
   "metadata": {},
   "source": [
    "## Обучение"
   ]
  },
  {
   "cell_type": "markdown",
   "metadata": {},
   "source": [
    "### Логистическая Регрессия"
   ]
  },
  {
   "cell_type": "code",
   "execution_count": 31,
   "metadata": {
    "ExecuteTime": {
     "end_time": "2022-12-16T12:41:52.914045Z",
     "start_time": "2022-12-16T12:41:52.903044Z"
    }
   },
   "outputs": [],
   "source": [
    "logistic_regression = LogisticRegression(\n",
    "    random_state=RS,\n",
    "    C=6,\n",
    "    penalty='l1',\n",
    "    solver='liblinear',\n",
    "    class_weight='balanced',\n",
    "    max_iter = 10\n",
    ")"
   ]
  },
  {
   "cell_type": "code",
   "execution_count": 32,
   "metadata": {
    "ExecuteTime": {
     "end_time": "2022-12-16T12:41:54.437404Z",
     "start_time": "2022-12-16T12:41:52.918034Z"
    }
   },
   "outputs": [
    {
     "name": "stderr",
     "output_type": "stream",
     "text": [
      "C:\\Users\\Manioka\\anaconda3\\lib\\site-packages\\sklearn\\svm\\_base.py:1206: ConvergenceWarning: Liblinear failed to converge, increase the number of iterations.\n",
      "  warnings.warn(\n"
     ]
    }
   ],
   "source": [
    "logistic_regression.fit(tf_idf_train, target_upsampled)\n",
    "predictions_log_reg = logistic_regression.predict(tf_idf_valid)"
   ]
  },
  {
   "cell_type": "code",
   "execution_count": 33,
   "metadata": {
    "ExecuteTime": {
     "end_time": "2022-12-16T12:41:54.469105Z",
     "start_time": "2022-12-16T12:41:54.441379Z"
    }
   },
   "outputs": [
    {
     "name": "stdout",
     "output_type": "stream",
     "text": [
      "F1 мера = 0.7543344108139877\n"
     ]
    }
   ],
   "source": [
    "print(f'F1 мера = {f1_score(target_valid, predictions_log_reg)}')"
   ]
  },
  {
   "cell_type": "markdown",
   "metadata": {},
   "source": [
    "Ура! Первая же модель проходит по заявленному в заданию уровню метрики качества модели."
   ]
  },
  {
   "cell_type": "markdown",
   "metadata": {
    "ExecuteTime": {
     "end_time": "2022-12-13T08:55:07.980237Z",
     "start_time": "2022-12-13T08:55:07.915091Z"
    }
   },
   "source": [
    "### Descision Tree Classifier"
   ]
  },
  {
   "cell_type": "code",
   "execution_count": 34,
   "metadata": {
    "ExecuteTime": {
     "end_time": "2022-12-16T12:41:54.485099Z",
     "start_time": "2022-12-16T12:41:54.471107Z"
    }
   },
   "outputs": [],
   "source": [
    "tree = DecisionTreeClassifier(random_state=RS)"
   ]
  },
  {
   "cell_type": "code",
   "execution_count": 35,
   "metadata": {
    "ExecuteTime": {
     "end_time": "2022-12-16T12:43:49.322517Z",
     "start_time": "2022-12-16T12:41:54.491097Z"
    }
   },
   "outputs": [
    {
     "data": {
      "text/plain": [
       "DecisionTreeClassifier(random_state=12345)"
      ]
     },
     "execution_count": 35,
     "metadata": {},
     "output_type": "execute_result"
    }
   ],
   "source": [
    "tree.fit(tf_idf_train, target_upsampled)"
   ]
  },
  {
   "cell_type": "code",
   "execution_count": 36,
   "metadata": {
    "ExecuteTime": {
     "end_time": "2022-12-16T12:43:49.398188Z",
     "start_time": "2022-12-16T12:43:49.325515Z"
    }
   },
   "outputs": [],
   "source": [
    "predictions_tree = tree.predict(tf_idf_valid)"
   ]
  },
  {
   "cell_type": "code",
   "execution_count": 37,
   "metadata": {
    "ExecuteTime": {
     "end_time": "2022-12-16T12:43:49.429173Z",
     "start_time": "2022-12-16T12:43:49.401191Z"
    }
   },
   "outputs": [
    {
     "name": "stdout",
     "output_type": "stream",
     "text": [
      "F1 мера = 0.6658956194882173\n"
     ]
    }
   ],
   "source": [
    "print(f'F1 мера = {f1_score(target_valid, predictions_tree)}')"
   ]
  },
  {
   "cell_type": "markdown",
   "metadata": {},
   "source": [
    "Модель Descision Tree Classifier имеет самое низкое значение F1 меры среди трех моделей."
   ]
  },
  {
   "cell_type": "markdown",
   "metadata": {},
   "source": [
    "### LGBM Classifier"
   ]
  },
  {
   "cell_type": "code",
   "execution_count": 38,
   "metadata": {
    "ExecuteTime": {
     "end_time": "2022-12-16T12:43:49.445166Z",
     "start_time": "2022-12-16T12:43:49.438169Z"
    }
   },
   "outputs": [],
   "source": [
    "lgb = LGBMClassifier(random_state=RS)"
   ]
  },
  {
   "cell_type": "code",
   "execution_count": 39,
   "metadata": {
    "ExecuteTime": {
     "end_time": "2022-12-16T12:44:33.740491Z",
     "start_time": "2022-12-16T12:43:49.450163Z"
    }
   },
   "outputs": [
    {
     "data": {
      "text/plain": [
       "LGBMClassifier(random_state=12345)"
      ]
     },
     "execution_count": 39,
     "metadata": {},
     "output_type": "execute_result"
    }
   ],
   "source": [
    "lgb.fit(tf_idf_train, target_upsampled)"
   ]
  },
  {
   "cell_type": "code",
   "execution_count": 40,
   "metadata": {
    "ExecuteTime": {
     "end_time": "2022-12-16T12:44:34.172243Z",
     "start_time": "2022-12-16T12:44:33.744491Z"
    }
   },
   "outputs": [],
   "source": [
    "predictions_lgb = lgb.predict(tf_idf_valid)"
   ]
  },
  {
   "cell_type": "code",
   "execution_count": 41,
   "metadata": {
    "ExecuteTime": {
     "end_time": "2022-12-16T12:44:34.204225Z",
     "start_time": "2022-12-16T12:44:34.175242Z"
    }
   },
   "outputs": [
    {
     "name": "stdout",
     "output_type": "stream",
     "text": [
      "F1 мера = 0.7594420937157186\n"
     ]
    }
   ],
   "source": [
    "print(f'F1 мера = {f1_score(target_valid, predictions_lgb)}')"
   ]
  },
  {
   "cell_type": "markdown",
   "metadata": {},
   "source": [
    " LGBM Classifier получил меньшее значение выборки чем логистическая регрессия, но больше чем Descision Tree Classifier."
   ]
  },
  {
   "cell_type": "markdown",
   "metadata": {},
   "source": [
    "### CatBoost Classifier"
   ]
  },
  {
   "cell_type": "code",
   "execution_count": 42,
   "metadata": {
    "ExecuteTime": {
     "end_time": "2022-12-16T12:44:34.220223Z",
     "start_time": "2022-12-16T12:44:34.207224Z"
    }
   },
   "outputs": [],
   "source": [
    "cat = CatBoostClassifier(\n",
    "    random_state=RS,\n",
    "    loss_function=\"Logloss\",\n",
    "    iterations=100\n",
    ")"
   ]
  },
  {
   "cell_type": "code",
   "execution_count": 43,
   "metadata": {
    "ExecuteTime": {
     "end_time": "2022-12-16T12:47:52.403965Z",
     "start_time": "2022-12-16T12:44:34.224214Z"
    }
   },
   "outputs": [
    {
     "name": "stdout",
     "output_type": "stream",
     "text": [
      "Learning rate set to 0.5\n",
      "0:\tlearn: 0.5247203\ttotal: 3.98s\tremaining: 6m 34s\n",
      "1:\tlearn: 0.4748825\ttotal: 8.27s\tremaining: 6m 45s\n",
      "2:\tlearn: 0.4476739\ttotal: 10.4s\tremaining: 5m 37s\n",
      "3:\tlearn: 0.4290509\ttotal: 12.4s\tremaining: 4m 58s\n",
      "4:\tlearn: 0.4134934\ttotal: 14.3s\tremaining: 4m 31s\n",
      "5:\tlearn: 0.4002261\ttotal: 16.2s\tremaining: 4m 14s\n",
      "6:\tlearn: 0.3894642\ttotal: 18s\tremaining: 3m 59s\n",
      "7:\tlearn: 0.3799635\ttotal: 19.8s\tremaining: 3m 47s\n",
      "8:\tlearn: 0.3699794\ttotal: 21.5s\tremaining: 3m 37s\n",
      "9:\tlearn: 0.3636183\ttotal: 23.3s\tremaining: 3m 29s\n",
      "10:\tlearn: 0.3562374\ttotal: 25s\tremaining: 3m 22s\n",
      "11:\tlearn: 0.3500710\ttotal: 26.7s\tremaining: 3m 15s\n",
      "12:\tlearn: 0.3442067\ttotal: 28.4s\tremaining: 3m 10s\n",
      "13:\tlearn: 0.3395305\ttotal: 30.2s\tremaining: 3m 5s\n",
      "14:\tlearn: 0.3356870\ttotal: 31.9s\tremaining: 3m\n",
      "15:\tlearn: 0.3316959\ttotal: 33.7s\tremaining: 2m 56s\n",
      "16:\tlearn: 0.3282744\ttotal: 35.4s\tremaining: 2m 53s\n",
      "17:\tlearn: 0.3249796\ttotal: 37.4s\tremaining: 2m 50s\n",
      "18:\tlearn: 0.3214459\ttotal: 39.2s\tremaining: 2m 47s\n",
      "19:\tlearn: 0.3183275\ttotal: 40.9s\tremaining: 2m 43s\n",
      "20:\tlearn: 0.3154403\ttotal: 42.8s\tremaining: 2m 40s\n",
      "21:\tlearn: 0.3126991\ttotal: 44.5s\tremaining: 2m 37s\n",
      "22:\tlearn: 0.3093732\ttotal: 46.6s\tremaining: 2m 36s\n",
      "23:\tlearn: 0.3070833\ttotal: 48.6s\tremaining: 2m 33s\n",
      "24:\tlearn: 0.3036596\ttotal: 50.5s\tremaining: 2m 31s\n",
      "25:\tlearn: 0.3005916\ttotal: 52.3s\tremaining: 2m 28s\n",
      "26:\tlearn: 0.2982667\ttotal: 54.1s\tremaining: 2m 26s\n",
      "27:\tlearn: 0.2958609\ttotal: 55.8s\tremaining: 2m 23s\n",
      "28:\tlearn: 0.2933231\ttotal: 57.6s\tremaining: 2m 21s\n",
      "29:\tlearn: 0.2905217\ttotal: 59.4s\tremaining: 2m 18s\n",
      "30:\tlearn: 0.2879240\ttotal: 1m 1s\tremaining: 2m 16s\n",
      "31:\tlearn: 0.2852767\ttotal: 1m 2s\tremaining: 2m 13s\n",
      "32:\tlearn: 0.2831642\ttotal: 1m 4s\tremaining: 2m 11s\n",
      "33:\tlearn: 0.2815393\ttotal: 1m 6s\tremaining: 2m 8s\n",
      "34:\tlearn: 0.2793538\ttotal: 1m 7s\tremaining: 2m 6s\n",
      "35:\tlearn: 0.2771498\ttotal: 1m 9s\tremaining: 2m 3s\n",
      "36:\tlearn: 0.2752382\ttotal: 1m 11s\tremaining: 2m 1s\n",
      "37:\tlearn: 0.2735195\ttotal: 1m 12s\tremaining: 1m 59s\n",
      "38:\tlearn: 0.2719791\ttotal: 1m 14s\tremaining: 1m 56s\n",
      "39:\tlearn: 0.2702399\ttotal: 1m 16s\tremaining: 1m 54s\n",
      "40:\tlearn: 0.2690310\ttotal: 1m 18s\tremaining: 1m 52s\n",
      "41:\tlearn: 0.2676588\ttotal: 1m 19s\tremaining: 1m 50s\n",
      "42:\tlearn: 0.2659928\ttotal: 1m 21s\tremaining: 1m 48s\n",
      "43:\tlearn: 0.2647119\ttotal: 1m 23s\tremaining: 1m 45s\n",
      "44:\tlearn: 0.2630504\ttotal: 1m 24s\tremaining: 1m 43s\n",
      "45:\tlearn: 0.2617903\ttotal: 1m 26s\tremaining: 1m 41s\n",
      "46:\tlearn: 0.2598942\ttotal: 1m 28s\tremaining: 1m 39s\n",
      "47:\tlearn: 0.2583346\ttotal: 1m 29s\tremaining: 1m 37s\n",
      "48:\tlearn: 0.2573912\ttotal: 1m 31s\tremaining: 1m 35s\n",
      "49:\tlearn: 0.2563219\ttotal: 1m 33s\tremaining: 1m 33s\n",
      "50:\tlearn: 0.2551678\ttotal: 1m 34s\tremaining: 1m 31s\n",
      "51:\tlearn: 0.2540258\ttotal: 1m 36s\tremaining: 1m 29s\n",
      "52:\tlearn: 0.2523845\ttotal: 1m 38s\tremaining: 1m 27s\n",
      "53:\tlearn: 0.2510458\ttotal: 1m 40s\tremaining: 1m 25s\n",
      "54:\tlearn: 0.2501716\ttotal: 1m 41s\tremaining: 1m 23s\n",
      "55:\tlearn: 0.2485545\ttotal: 1m 43s\tremaining: 1m 21s\n",
      "56:\tlearn: 0.2471116\ttotal: 1m 45s\tremaining: 1m 19s\n",
      "57:\tlearn: 0.2463484\ttotal: 1m 46s\tremaining: 1m 17s\n",
      "58:\tlearn: 0.2450740\ttotal: 1m 48s\tremaining: 1m 15s\n",
      "59:\tlearn: 0.2443180\ttotal: 1m 50s\tremaining: 1m 13s\n",
      "60:\tlearn: 0.2428516\ttotal: 1m 52s\tremaining: 1m 11s\n",
      "61:\tlearn: 0.2404904\ttotal: 1m 53s\tremaining: 1m 9s\n",
      "62:\tlearn: 0.2394927\ttotal: 1m 55s\tremaining: 1m 7s\n",
      "63:\tlearn: 0.2382590\ttotal: 1m 57s\tremaining: 1m 5s\n",
      "64:\tlearn: 0.2372086\ttotal: 1m 58s\tremaining: 1m 3s\n",
      "65:\tlearn: 0.2361808\ttotal: 2m\tremaining: 1m 2s\n",
      "66:\tlearn: 0.2353877\ttotal: 2m 2s\tremaining: 1m\n",
      "67:\tlearn: 0.2342980\ttotal: 2m 4s\tremaining: 58.4s\n",
      "68:\tlearn: 0.2336150\ttotal: 2m 5s\tremaining: 56.5s\n",
      "69:\tlearn: 0.2326645\ttotal: 2m 7s\tremaining: 54.6s\n",
      "70:\tlearn: 0.2318424\ttotal: 2m 9s\tremaining: 52.7s\n",
      "71:\tlearn: 0.2312308\ttotal: 2m 10s\tremaining: 50.9s\n",
      "72:\tlearn: 0.2300719\ttotal: 2m 12s\tremaining: 49s\n",
      "73:\tlearn: 0.2292894\ttotal: 2m 14s\tremaining: 47.1s\n",
      "74:\tlearn: 0.2286947\ttotal: 2m 15s\tremaining: 45.3s\n",
      "75:\tlearn: 0.2279420\ttotal: 2m 17s\tremaining: 43.5s\n",
      "76:\tlearn: 0.2268485\ttotal: 2m 19s\tremaining: 41.7s\n",
      "77:\tlearn: 0.2262660\ttotal: 2m 21s\tremaining: 39.8s\n",
      "78:\tlearn: 0.2250161\ttotal: 2m 22s\tremaining: 38s\n",
      "79:\tlearn: 0.2240699\ttotal: 2m 24s\tremaining: 36.2s\n",
      "80:\tlearn: 0.2232857\ttotal: 2m 26s\tremaining: 34.3s\n",
      "81:\tlearn: 0.2227170\ttotal: 2m 27s\tremaining: 32.5s\n",
      "82:\tlearn: 0.2220572\ttotal: 2m 29s\tremaining: 30.7s\n",
      "83:\tlearn: 0.2215577\ttotal: 2m 31s\tremaining: 28.8s\n",
      "84:\tlearn: 0.2208256\ttotal: 2m 32s\tremaining: 27s\n",
      "85:\tlearn: 0.2200224\ttotal: 2m 34s\tremaining: 25.2s\n",
      "86:\tlearn: 0.2189087\ttotal: 2m 36s\tremaining: 23.4s\n",
      "87:\tlearn: 0.2180339\ttotal: 2m 38s\tremaining: 21.6s\n",
      "88:\tlearn: 0.2169004\ttotal: 2m 39s\tremaining: 19.8s\n",
      "89:\tlearn: 0.2163126\ttotal: 2m 41s\tremaining: 18s\n",
      "90:\tlearn: 0.2156350\ttotal: 2m 43s\tremaining: 16.1s\n",
      "91:\tlearn: 0.2146922\ttotal: 2m 45s\tremaining: 14.4s\n",
      "92:\tlearn: 0.2138016\ttotal: 2m 46s\tremaining: 12.6s\n",
      "93:\tlearn: 0.2131497\ttotal: 2m 48s\tremaining: 10.8s\n",
      "94:\tlearn: 0.2126719\ttotal: 2m 50s\tremaining: 8.97s\n",
      "95:\tlearn: 0.2118642\ttotal: 2m 52s\tremaining: 7.19s\n",
      "96:\tlearn: 0.2113848\ttotal: 2m 54s\tremaining: 5.39s\n",
      "97:\tlearn: 0.2107628\ttotal: 2m 55s\tremaining: 3.59s\n",
      "98:\tlearn: 0.2103359\ttotal: 2m 57s\tremaining: 1.79s\n",
      "99:\tlearn: 0.2093282\ttotal: 2m 59s\tremaining: 0us\n"
     ]
    },
    {
     "data": {
      "text/plain": [
       "<catboost.core.CatBoostClassifier at 0x1dc9c22dd30>"
      ]
     },
     "execution_count": 43,
     "metadata": {},
     "output_type": "execute_result"
    }
   ],
   "source": [
    "cat.fit(tf_idf_train, target_upsampled)"
   ]
  },
  {
   "cell_type": "code",
   "execution_count": 44,
   "metadata": {
    "ExecuteTime": {
     "end_time": "2022-12-16T12:47:53.051288Z",
     "start_time": "2022-12-16T12:47:52.417976Z"
    }
   },
   "outputs": [],
   "source": [
    "cat_pred = cat.predict(tf_idf_valid)"
   ]
  },
  {
   "cell_type": "code",
   "execution_count": 45,
   "metadata": {
    "ExecuteTime": {
     "end_time": "2022-12-16T12:47:53.114534Z",
     "start_time": "2022-12-16T12:47:53.055568Z"
    }
   },
   "outputs": [
    {
     "name": "stdout",
     "output_type": "stream",
     "text": [
      "F1 мера = 0.7570881226053641\n"
     ]
    }
   ],
   "source": [
    "print(f'F1 мера = {f1_score(target_valid, cat_pred)}')"
   ]
  },
  {
   "cell_type": "markdown",
   "metadata": {},
   "source": [
    "### Проверим лучшую модель на тестовой выборке"
   ]
  },
  {
   "cell_type": "code",
   "execution_count": 49,
   "metadata": {
    "ExecuteTime": {
     "end_time": "2022-12-16T12:48:40.606580Z",
     "start_time": "2022-12-16T12:48:40.186660Z"
    }
   },
   "outputs": [],
   "source": [
    "predictions_lgb_reg = lgb.predict(tf_idf_test)"
   ]
  },
  {
   "cell_type": "code",
   "execution_count": 51,
   "metadata": {
    "ExecuteTime": {
     "end_time": "2022-12-16T12:48:56.519231Z",
     "start_time": "2022-12-16T12:48:56.495245Z"
    }
   },
   "outputs": [
    {
     "name": "stdout",
     "output_type": "stream",
     "text": [
      "F1 мера = 0.7528409090909092\n"
     ]
    }
   ],
   "source": [
    "print(f'F1 мера LGBMClassifier на тестовой выборке= {f1_score(target_test, predictions_lgb_reg)}')"
   ]
  },
  {
   "cell_type": "markdown",
   "metadata": {},
   "source": [
    "Я еще на всякий случай catboostу скормила тесты. Метрику проходит."
   ]
  },
  {
   "cell_type": "code",
   "execution_count": 53,
   "metadata": {
    "ExecuteTime": {
     "end_time": "2022-12-16T12:50:56.137475Z",
     "start_time": "2022-12-16T12:50:55.627748Z"
    }
   },
   "outputs": [
    {
     "name": "stdout",
     "output_type": "stream",
     "text": [
      "F1 мера CatBoost на тестовой выборке = 0.7521919704660821\n"
     ]
    }
   ],
   "source": [
    "cat_pred_test = cat.predict(tf_idf_test)\n",
    "print(f'F1 мера CatBoost на тестовой выборке = {f1_score(target_test, cat_pred_test)}')"
   ]
  },
  {
   "cell_type": "markdown",
   "metadata": {},
   "source": [
    "## Выводы"
   ]
  },
  {
   "cell_type": "markdown",
   "metadata": {},
   "source": [
    "~Основное, что я поняла - это то, что у меня ооочень старый и слабый ноутбук~"
   ]
  },
  {
   "cell_type": "markdown",
   "metadata": {},
   "source": [
    "**В ходе данного проекта было выполнено следующее:**\n",
    "\n",
    "⎔ Проверены данные, в которых не было выяслено пропусков;\n",
    "\n",
    "⎔ Проведена лемматизация текстов (очень долгая и сложная процедура);\n",
    "\n",
    "**⎔ Найден дисбаланс классов в целевом признаке;**\n",
    "\n",
    "**⎔ Проведена корректировка дисбаланса классов;**\n",
    "\n",
    "⎔ Созданы корпусы лемматизированных твитов;\n",
    "\n",
    "⎔ Данные поделены на выборки и уже полученные на полученных выборках были созданы матрицы cо значениями TF-IDF;\n",
    "\n",
    "⎔ После подготовки данных были выбраны **четыре** модели :\n",
    "\n",
    "а)Logistic Regression;\n",
    "\n",
    "б)Descision Tree Classifier;\n",
    "\n",
    "в)LGBM Classifier,\n",
    "\n",
    "**г)CatBoostClassifier**\n",
    "\n",
    "⎔ Мною были предприняты попытки использовать подбор гиперпараметров, но, увы, кроме ошибки и просьбы добавить в комьютер оперативной памяти я ничего не добилась гридом. Поэтому без подбора гиперпараметров обучены были модели.\n",
    "\n",
    "⎔ Лучшее значение F1 - метрики получилось у **LGBMClassifier** и F1 = 0.75284, что удовлетворяет условиям задания."
   ]
  }
 ],
 "metadata": {
  "ExecuteTimeLog": [
   {
    "duration": 14934,
    "start_time": "2022-12-14T07:19:31.785Z"
   },
   {
    "duration": 9700,
    "start_time": "2022-12-14T07:19:46.722Z"
   },
   {
    "duration": 1508,
    "start_time": "2022-12-14T07:19:56.423Z"
   },
   {
    "duration": 4,
    "start_time": "2022-12-14T07:19:57.933Z"
   },
   {
    "duration": 2311,
    "start_time": "2022-12-14T07:19:57.940Z"
   },
   {
    "duration": 63,
    "start_time": "2022-12-14T07:20:00.252Z"
   },
   {
    "duration": 144,
    "start_time": "2022-12-14T07:20:00.320Z"
   },
   {
    "duration": 52,
    "start_time": "2022-12-14T07:20:00.465Z"
   },
   {
    "duration": 551,
    "start_time": "2022-12-14T07:20:00.518Z"
   },
   {
    "duration": 705,
    "start_time": "2022-12-14T07:20:01.070Z"
   },
   {
    "duration": 31,
    "start_time": "2022-12-14T07:20:01.777Z"
   },
   {
    "duration": 2718,
    "start_time": "2022-12-14T07:20:01.816Z"
   },
   {
    "duration": 5,
    "start_time": "2022-12-14T07:20:04.536Z"
   },
   {
    "duration": 11,
    "start_time": "2022-12-14T07:20:04.545Z"
   },
   {
    "duration": 4,
    "start_time": "2022-12-14T07:20:04.616Z"
   },
   {
    "duration": 7,
    "start_time": "2022-12-14T07:20:04.622Z"
   },
   {
    "duration": 13712,
    "start_time": "2022-12-14T07:23:08.921Z"
   },
   {
    "duration": 4581,
    "start_time": "2022-12-14T07:23:22.635Z"
   },
   {
    "duration": 648,
    "start_time": "2022-12-14T07:23:27.218Z"
   },
   {
    "duration": 5,
    "start_time": "2022-12-14T07:23:27.868Z"
   },
   {
    "duration": 1188,
    "start_time": "2022-12-14T07:23:27.876Z"
   },
   {
    "duration": 10,
    "start_time": "2022-12-14T07:23:29.066Z"
   },
   {
    "duration": 10,
    "start_time": "2022-12-14T07:23:29.078Z"
   },
   {
    "duration": 30,
    "start_time": "2022-12-14T07:23:29.090Z"
   },
   {
    "duration": 25,
    "start_time": "2022-12-14T07:23:29.121Z"
   },
   {
    "duration": 2,
    "start_time": "2022-12-14T07:23:29.148Z"
   },
   {
    "duration": 8,
    "start_time": "2022-12-14T07:23:29.152Z"
   },
   {
    "duration": 1345,
    "start_time": "2022-12-14T07:23:29.162Z"
   },
   {
    "duration": 7,
    "start_time": "2022-12-14T07:23:30.509Z"
   },
   {
    "duration": 43,
    "start_time": "2022-12-14T07:23:30.518Z"
   },
   {
    "duration": 38,
    "start_time": "2022-12-14T07:23:30.563Z"
   },
   {
    "duration": 28,
    "start_time": "2022-12-14T07:23:30.603Z"
   },
   {
    "duration": 1188099,
    "start_time": "2022-12-14T07:23:30.633Z"
   },
   {
    "duration": 38,
    "start_time": "2022-12-14T07:45:32.816Z"
   },
   {
    "duration": 8,
    "start_time": "2022-12-14T07:45:33.204Z"
   },
   {
    "duration": 32,
    "start_time": "2022-12-14T07:45:35.685Z"
   },
   {
    "duration": 73,
    "start_time": "2022-12-14T07:45:40.664Z"
   },
   {
    "duration": 14623,
    "start_time": "2022-12-14T07:46:04.925Z"
   },
   {
    "duration": 4602,
    "start_time": "2022-12-14T07:46:19.551Z"
   },
   {
    "duration": 568,
    "start_time": "2022-12-14T07:46:24.155Z"
   },
   {
    "duration": 4,
    "start_time": "2022-12-14T07:46:24.724Z"
   },
   {
    "duration": 1215,
    "start_time": "2022-12-14T07:46:24.730Z"
   },
   {
    "duration": 13,
    "start_time": "2022-12-14T07:46:25.947Z"
   },
   {
    "duration": 9,
    "start_time": "2022-12-14T07:46:25.962Z"
   },
   {
    "duration": 35,
    "start_time": "2022-12-14T07:46:25.972Z"
   },
   {
    "duration": 31,
    "start_time": "2022-12-14T07:46:26.009Z"
   },
   {
    "duration": 10,
    "start_time": "2022-12-14T07:46:26.042Z"
   },
   {
    "duration": 18,
    "start_time": "2022-12-14T07:46:26.054Z"
   },
   {
    "duration": 1422,
    "start_time": "2022-12-14T07:46:26.074Z"
   },
   {
    "duration": 4,
    "start_time": "2022-12-14T07:46:27.498Z"
   },
   {
    "duration": 7,
    "start_time": "2022-12-14T07:46:27.515Z"
   },
   {
    "duration": 6,
    "start_time": "2022-12-14T07:46:27.524Z"
   },
   {
    "duration": 7,
    "start_time": "2022-12-14T07:46:27.531Z"
   },
   {
    "duration": 1235811,
    "start_time": "2022-12-14T07:46:27.540Z"
   },
   {
    "duration": 29,
    "start_time": "2022-12-14T08:07:03.354Z"
   },
   {
    "duration": 13,
    "start_time": "2022-12-14T08:07:03.385Z"
   },
   {
    "duration": 38,
    "start_time": "2022-12-14T08:07:03.416Z"
   },
   {
    "duration": 86,
    "start_time": "2022-12-14T08:07:03.456Z"
   },
   {
    "duration": 3,
    "start_time": "2022-12-14T08:07:03.545Z"
   },
   {
    "duration": 6551,
    "start_time": "2022-12-14T08:07:03.550Z"
   },
   {
    "duration": 682,
    "start_time": "2022-12-14T08:07:10.103Z"
   },
   {
    "duration": 3,
    "start_time": "2022-12-14T08:09:02.503Z"
   },
   {
    "duration": 9573,
    "start_time": "2022-12-14T08:09:03.104Z"
   },
   {
    "duration": 8,
    "start_time": "2022-12-14T08:09:12.679Z"
   },
   {
    "duration": 9,
    "start_time": "2022-12-14T08:09:12.689Z"
   },
   {
    "duration": 443638,
    "start_time": "2022-12-14T08:09:12.700Z"
   },
   {
    "duration": 62,
    "start_time": "2022-12-14T08:16:36.340Z"
   },
   {
    "duration": 20,
    "start_time": "2022-12-14T08:16:36.405Z"
   },
   {
    "duration": 8,
    "start_time": "2022-12-14T08:16:36.427Z"
   }
  ],
  "kernelspec": {
   "display_name": "Python 3 (ipykernel)",
   "language": "python",
   "name": "python3"
  },
  "language_info": {
   "codemirror_mode": {
    "name": "ipython",
    "version": 3
   },
   "file_extension": ".py",
   "mimetype": "text/x-python",
   "name": "python",
   "nbconvert_exporter": "python",
   "pygments_lexer": "ipython3",
   "version": "3.9.7"
  },
  "toc": {
   "base_numbering": 1,
   "nav_menu": {},
   "number_sections": true,
   "sideBar": true,
   "skip_h1_title": true,
   "title_cell": "Содержание",
   "title_sidebar": "Contents",
   "toc_cell": true,
   "toc_position": {
    "height": "calc(100% - 180px)",
    "left": "10px",
    "top": "150px",
    "width": "302.375px"
   },
   "toc_section_display": true,
   "toc_window_display": true
  }
 },
 "nbformat": 4,
 "nbformat_minor": 4
}
